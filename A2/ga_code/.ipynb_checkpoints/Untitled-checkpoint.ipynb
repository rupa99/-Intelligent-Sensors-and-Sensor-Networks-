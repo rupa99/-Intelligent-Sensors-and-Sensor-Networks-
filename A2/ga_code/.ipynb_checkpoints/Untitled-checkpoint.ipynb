{
 "cells": [
  {
   "cell_type": "code",
   "execution_count": 3,
   "metadata": {},
   "outputs": [],
   "source": [
    "import numpy as np"
   ]
  },
  {
   "cell_type": "code",
   "execution_count": 5,
   "metadata": {},
   "outputs": [
    {
     "data": {
      "text/plain": [
       "array([1, 2, 3, 4, 5])"
      ]
     },
     "execution_count": 5,
     "metadata": {},
     "output_type": "execute_result"
    }
   ],
   "source": [
    "my_first_array = np.array([1, 2, 3,4,5])\n",
    "my_first_array"
   ]
  },
  {
   "cell_type": "code",
   "execution_count": 7,
   "metadata": {},
   "outputs": [],
   "source": [
    "def cal_pop_fitness(equation_inputs, pop):\n",
    "    # Calculating the fitness value of each solution in the current population.\n",
    "    # The fitness function calulates the sum of products between each input and its corresponding weight.\n",
    "    fitness = numpy.sum(pop*equation_inputs, axis=1)\n",
    "    return fitness\n",
    "\n",
    "\n"
   ]
  },
  {
   "cell_type": "code",
   "execution_count": 8,
   "metadata": {},
   "outputs": [
    {
     "name": "stdout",
     "output_type": "stream",
     "text": [
      "[[-1.62629138 -1.89152311  0.01512801  2.2540628  -3.25035134  0.51891371]\n",
      " [ 1.62683815 -0.74403146 -0.39081576 -0.0894107   2.67463496 -2.04379607]\n",
      " [-0.98662015 -2.99288607 -1.27758291 -0.38021368 -2.33727348  3.09623374]\n",
      " [-1.15482459  0.46555739 -3.76041832  2.44267077  1.00341393 -3.67257527]\n",
      " [ 2.28750008 -2.82271931  1.11537577 -2.68464952  0.95149765 -0.58000809]\n",
      " [ 3.56202356  2.79430126  3.56313443  1.59261188  1.62086971  2.63071468]\n",
      " [-1.65389398  3.80016059  1.77595203  0.50676289 -0.62238137  2.10058565]\n",
      " [ 2.17928333  2.15783787 -3.95300929  2.1017718  -2.63856651  2.81503278]]\n",
      "Generation :  0\n"
     ]
    },
    {
     "ename": "NameError",
     "evalue": "name 'ga' is not defined",
     "output_type": "error",
     "traceback": [
      "\u001b[0;31m---------------------------------------------------------------------------\u001b[0m",
      "\u001b[0;31mNameError\u001b[0m                                 Traceback (most recent call last)",
      "\u001b[0;32m<ipython-input-8-c8ce615dcbb0>\u001b[0m in \u001b[0;36m<module>\u001b[0;34m\u001b[0m\n\u001b[1;32m     33\u001b[0m     \u001b[0mprint\u001b[0m\u001b[0;34m(\u001b[0m\u001b[0;34m\"Generation : \"\u001b[0m\u001b[0;34m,\u001b[0m \u001b[0mgeneration\u001b[0m\u001b[0;34m)\u001b[0m\u001b[0;34m\u001b[0m\u001b[0;34m\u001b[0m\u001b[0m\n\u001b[1;32m     34\u001b[0m     \u001b[0;31m# Measuring the fitness of each chromosome in the population.\u001b[0m\u001b[0;34m\u001b[0m\u001b[0;34m\u001b[0m\u001b[0;34m\u001b[0m\u001b[0m\n\u001b[0;32m---> 35\u001b[0;31m     \u001b[0mfitness\u001b[0m \u001b[0;34m=\u001b[0m \u001b[0mga\u001b[0m\u001b[0;34m.\u001b[0m\u001b[0mcal_pop_fitness\u001b[0m\u001b[0;34m(\u001b[0m\u001b[0mequation_inputs\u001b[0m\u001b[0;34m,\u001b[0m \u001b[0mnew_population\u001b[0m\u001b[0;34m)\u001b[0m\u001b[0;34m\u001b[0m\u001b[0;34m\u001b[0m\u001b[0m\n\u001b[0m\u001b[1;32m     36\u001b[0m     \u001b[0mprint\u001b[0m\u001b[0;34m(\u001b[0m\u001b[0;34m\"Fitness\"\u001b[0m\u001b[0;34m)\u001b[0m\u001b[0;34m\u001b[0m\u001b[0;34m\u001b[0m\u001b[0m\n\u001b[1;32m     37\u001b[0m     \u001b[0mprint\u001b[0m\u001b[0;34m(\u001b[0m\u001b[0mfitness\u001b[0m\u001b[0;34m)\u001b[0m\u001b[0;34m\u001b[0m\u001b[0;34m\u001b[0m\u001b[0m\n",
      "\u001b[0;31mNameError\u001b[0m: name 'ga' is not defined"
     ]
    }
   ],
   "source": [
    "# Inputs of the equation.\n",
    "equation_inputs = [4,-2,3.5,5,-11,-4.7]\n",
    "\n",
    "# Number of the weights we are looking to optimize.\n",
    "num_weights = len(equation_inputs)\n",
    "\n",
    "\"\"\"\n",
    "Genetic algorithm parameters:\n",
    "    Mating pool size\n",
    "    Population size\n",
    "\"\"\"\n",
    "sol_per_pop = 8\n",
    "num_parents_mating = 4\n",
    "\n",
    "# Defining the population size.\n",
    "pop_size = (sol_per_pop,num_weights) # The population will have sol_per_pop chromosome where each chromosome has num_weights genes.\n",
    "#Creating the initial population.\n",
    "new_population = numpy.random.uniform(low=-4.0, high=4.0, size=pop_size)\n",
    "print(new_population)\n",
    "\n",
    "\"\"\"\n",
    "new_population[0, :] = [2.4,  0.7, 8, -2,   5,   1.1]\n",
    "new_population[1, :] = [-0.4, 2.7, 5, -1,   7,   0.1]\n",
    "new_population[2, :] = [-1,   2,   2, -3,   2,   0.9]\n",
    "new_population[3, :] = [4,    7,   12, 6.1, 1.4, -4]\n",
    "new_population[4, :] = [3.1,  4,   0,  2.4, 4.8,  0]\n",
    "new_population[5, :] = [-2,   3,   -7, 6,   3,    3]\n",
    "\"\"\"\n",
    "\n",
    "best_outputs = []\n",
    "num_generations = 1000\n",
    "for generation in range(num_generations):\n",
    "    print(\"Generation : \", generation)\n",
    "    # Measuring the fitness of each chromosome in the population.\n",
    "    fitness = cal_pop_fitness(equation_inputs, new_population)\n",
    "    print(\"Fitness\")\n",
    "    print(fitness)\n"
   ]
  },
  {
   "cell_type": "code",
   "execution_count": null,
   "metadata": {},
   "outputs": [],
   "source": []
  }
 ],
 "metadata": {
  "kernelspec": {
   "display_name": "Python 3",
   "language": "python",
   "name": "python3"
  },
  "language_info": {
   "codemirror_mode": {
    "name": "ipython",
    "version": 3
   },
   "file_extension": ".py",
   "mimetype": "text/x-python",
   "name": "python",
   "nbconvert_exporter": "python",
   "pygments_lexer": "ipython3",
   "version": "3.7.10"
  }
 },
 "nbformat": 4,
 "nbformat_minor": 4
}
